{
 "cells": [
  {
   "cell_type": "code",
   "execution_count": 1,
   "metadata": {},
   "outputs": [],
   "source": [
    "import pandas as pd\n",
    "import numpy as np\n",
    "\n",
    "from textblob import TextBlob\n",
    "\n",
    "\n",
    "from tqdm import tqdm \n",
    "import calendar \n",
    "import time\n",
    "\n",
    "import warnings\n",
    "warnings.filterwarnings('ignore')"
   ]
  },
  {
   "cell_type": "code",
   "execution_count": 2,
   "metadata": {},
   "outputs": [],
   "source": [
    "INPUT_DATA_PATH = '../data/'\n",
    "INPUT_FILE_NAME = 'Webinar_Oct_2020.csv'\n",
    "\n",
    "DW_MAPPING = {\n",
    "    0: 'Monday', \n",
    "    1: 'Tuesday', \n",
    "    2: 'Wednesday', \n",
    "    3: 'Thursday', \n",
    "    4: 'Friday',\n",
    "    5: 'Saturday', \n",
    "    6: 'Sunday'\n",
    "}"
   ]
  },
  {
   "cell_type": "code",
   "execution_count": 3,
   "metadata": {},
   "outputs": [],
   "source": [
    "def get_week_of_month(year, month, day):\n",
    "    x = np.array(calendar.monthcalendar(year, month))\n",
    "    week_of_month = np.where(x==day)[0][0] + 1\n",
    "    \n",
    "    return(week_of_month)"
   ]
  },
  {
   "cell_type": "code",
   "execution_count": 4,
   "metadata": {},
   "outputs": [],
   "source": [
    "def get_week_list(data, column):\n",
    "    weeklist = []\n",
    "    for i in tqdm(data[column].values):\n",
    "        date = pd.to_datetime(i).date()\n",
    "        year = date.year\n",
    "        month = date.month\n",
    "        day = date.day\n",
    "        \n",
    "        week_no = get_week_of_month(year, month, day)\n",
    "        weeklist.append(week_no)\n",
    "        \n",
    "    return weeklist"
   ]
  },
  {
   "cell_type": "code",
   "execution_count": 5,
   "metadata": {},
   "outputs": [],
   "source": [
    "def get_minutes(x):\n",
    "    t = x.split(':')\n",
    "    total_minutes= int(t[0])*60 + int(t[1])*1 \n",
    "\n",
    "    return total_minutes"
   ]
  },
  {
   "cell_type": "code",
   "execution_count": null,
   "metadata": {},
   "outputs": [],
   "source": []
  },
  {
   "cell_type": "code",
   "execution_count": 6,
   "metadata": {},
   "outputs": [],
   "source": [
    "# df_xls = pd.read_excel(INPUT_DATA_PATH + 'W2W_Oct2020.xlsx', sheet_name='PV_Data')\n",
    "\n",
    "# df_xls.to_csv('../data/Webinar_Oct_2020.csv', index=None)"
   ]
  },
  {
   "cell_type": "code",
   "execution_count": null,
   "metadata": {},
   "outputs": [],
   "source": []
  },
  {
   "cell_type": "code",
   "execution_count": 7,
   "metadata": {},
   "outputs": [],
   "source": [
    "# tb = TextBlob('อิสรา บุญสาธร')\n",
    "# tb.translate(to='en')"
   ]
  },
  {
   "cell_type": "code",
   "execution_count": 8,
   "metadata": {},
   "outputs": [],
   "source": [
    "# def translate(comment, language):\n",
    "#     if hasattr(comment, 'decode'):\n",
    "#         comment = comment.decode('utf-8')\n",
    "\n",
    "#     text = TextBlob(comment)\n",
    "#     try:\n",
    "#         text = text.translate(from_lang='en', to=language)\n",
    "#         time.sleep(0.2)\n",
    "#         text = text.translate(from_lang=language, to='en')\n",
    "#         time.sleep(0.2)\n",
    "#     except NotTranslated:\n",
    "#         pass\n",
    "\n",
    "#     return str(text)"
   ]
  },
  {
   "cell_type": "code",
   "execution_count": null,
   "metadata": {},
   "outputs": [],
   "source": []
  },
  {
   "cell_type": "code",
   "execution_count": 9,
   "metadata": {},
   "outputs": [],
   "source": [
    "# from googletrans import Translator\n",
    "# translator = Translator()\n",
    "# trans1 = translator.translate('Hello', dest = 'es')"
   ]
  },
  {
   "cell_type": "code",
   "execution_count": 10,
   "metadata": {},
   "outputs": [],
   "source": [
    "# tb.translate(to='ta')"
   ]
  },
  {
   "cell_type": "code",
   "execution_count": 11,
   "metadata": {},
   "outputs": [],
   "source": [
    "# x = 'How are yoou Balaji?'\n",
    "# tb = TextBlob(x)\n",
    "# tb.translate(to='ta')"
   ]
  },
  {
   "cell_type": "code",
   "execution_count": null,
   "metadata": {},
   "outputs": [],
   "source": []
  },
  {
   "cell_type": "code",
   "execution_count": 12,
   "metadata": {},
   "outputs": [],
   "source": [
    "def convert_to_english(x):\n",
    "    tb = TextBlob(x)\n",
    "    time.sleep(0.2)\n",
    "    text = tb.translate(to='en')\n",
    "    time.sleep(0.2)\n",
    "    return str(text)"
   ]
  },
  {
   "cell_type": "code",
   "execution_count": 13,
   "metadata": {},
   "outputs": [],
   "source": [
    "# df_xls['Full Name'].apply(lambda x: convert_to_english(x))"
   ]
  },
  {
   "cell_type": "code",
   "execution_count": null,
   "metadata": {},
   "outputs": [],
   "source": []
  },
  {
   "cell_type": "code",
   "execution_count": null,
   "metadata": {},
   "outputs": [],
   "source": []
  },
  {
   "cell_type": "code",
   "execution_count": 14,
   "metadata": {},
   "outputs": [],
   "source": [
    "df = pd.read_csv(INPUT_DATA_PATH + INPUT_FILE_NAME, engine='python' )"
   ]
  },
  {
   "cell_type": "code",
   "execution_count": 15,
   "metadata": {},
   "outputs": [
    {
     "data": {
      "text/html": [
       "<div>\n",
       "<style scoped>\n",
       "    .dataframe tbody tr th:only-of-type {\n",
       "        vertical-align: middle;\n",
       "    }\n",
       "\n",
       "    .dataframe tbody tr th {\n",
       "        vertical-align: top;\n",
       "    }\n",
       "\n",
       "    .dataframe thead th {\n",
       "        text-align: right;\n",
       "    }\n",
       "</style>\n",
       "<table border=\"1\" class=\"dataframe\">\n",
       "  <thead>\n",
       "    <tr style=\"text-align: right;\">\n",
       "      <th></th>\n",
       "      <th>Type (Live/VOD)</th>\n",
       "      <th>EventName</th>\n",
       "      <th>Full Name</th>\n",
       "      <th>LoginTime</th>\n",
       "      <th>Duration</th>\n",
       "      <th>Primary Parent</th>\n",
       "      <th>E-Mail</th>\n",
       "      <th>Specialty</th>\n",
       "      <th>Date</th>\n",
       "    </tr>\n",
       "  </thead>\n",
       "  <tbody>\n",
       "    <tr>\n",
       "      <th>27</th>\n",
       "      <td>Live</td>\n",
       "      <td>Maternal Immunization: From Theory to ob-gynâ€™s</td>\n",
       "      <td>à¸­à¸¸à¸”à¸¡ à¸Šà¸¸à¸•à¸´à¸„à¸‡à¹€à¸‰à¸¥à¸´à¸¡...</td>\n",
       "      <td>2020-10-02 11:59:58</td>\n",
       "      <td>00:08:36</td>\n",
       "      <td>Uttaradit Hospital</td>\n",
       "      <td>torochutikong@gmail.com</td>\n",
       "      <td>General Practice</td>\n",
       "      <td>02-Oct-20</td>\n",
       "    </tr>\n",
       "    <tr>\n",
       "      <th>279</th>\n",
       "      <td>VOD</td>\n",
       "      <td>Comprehesive guideline review for common bacte...</td>\n",
       "      <td>à¸›à¸�à¸¡à¸² à¸ªà¸¸à¸—à¸˜à¸²</td>\n",
       "      <td>2020-10-12 07:59:13</td>\n",
       "      <td>00:02:22</td>\n",
       "      <td>Bamrasnaradura Institute</td>\n",
       "      <td>mueyeing64@gmail.com</td>\n",
       "      <td>Infectious Disease</td>\n",
       "      <td>12-Oct-20</td>\n",
       "    </tr>\n",
       "    <tr>\n",
       "      <th>556</th>\n",
       "      <td>VOD</td>\n",
       "      <td>Ultimate GOAL of Asthma Management: Take Control</td>\n",
       "      <td>à¸�à¸¤à¸©à¸“à¸² à¸Šà¸¸à¸“à¸«à¸žà¸‡à¸©à¹Œà¸žà¸´...</td>\n",
       "      <td>2020-09-28 10:52:51</td>\n",
       "      <td>00:51:13</td>\n",
       "      <td>Not found in Veeva</td>\n",
       "      <td>wow_my_life@yahoo.com</td>\n",
       "      <td>Not found in Veeva</td>\n",
       "      <td>28-Sep-20</td>\n",
       "    </tr>\n",
       "  </tbody>\n",
       "</table>\n",
       "</div>"
      ],
      "text/plain": [
       "    Type (Live/VOD)                                          EventName  \\\n",
       "27             Live   Maternal Immunization: From Theory to ob-gynâ€™s   \n",
       "279             VOD  Comprehesive guideline review for common bacte...   \n",
       "556             VOD   Ultimate GOAL of Asthma Management: Take Control   \n",
       "\n",
       "                                             Full Name            LoginTime  \\\n",
       "27   à¸­à¸¸à¸”à¸¡ à¸Šà¸¸à¸•à¸´à¸„à¸‡à¹€à¸‰à¸¥à¸´à¸¡...  2020-10-02 11:59:58   \n",
       "279                       à¸›à¸�à¸¡à¸² à¸ªà¸¸à¸—à¸˜à¸²  2020-10-12 07:59:13   \n",
       "556  à¸�à¸¤à¸©à¸“à¸² à¸Šà¸¸à¸“à¸«à¸žà¸‡à¸©à¹Œà¸žà¸´...  2020-09-28 10:52:51   \n",
       "\n",
       "     Duration            Primary Parent                   E-Mail  \\\n",
       "27   00:08:36        Uttaradit Hospital  torochutikong@gmail.com   \n",
       "279  00:02:22  Bamrasnaradura Institute     mueyeing64@gmail.com   \n",
       "556  00:51:13        Not found in Veeva    wow_my_life@yahoo.com   \n",
       "\n",
       "              Specialty       Date  \n",
       "27     General Practice  02-Oct-20  \n",
       "279  Infectious Disease  12-Oct-20  \n",
       "556  Not found in Veeva  28-Sep-20  "
      ]
     },
     "execution_count": 15,
     "metadata": {},
     "output_type": "execute_result"
    }
   ],
   "source": [
    "df.sample(3)"
   ]
  },
  {
   "cell_type": "code",
   "execution_count": 18,
   "metadata": {},
   "outputs": [
    {
     "data": {
      "text/html": [
       "<div>\n",
       "<style scoped>\n",
       "    .dataframe tbody tr th:only-of-type {\n",
       "        vertical-align: middle;\n",
       "    }\n",
       "\n",
       "    .dataframe tbody tr th {\n",
       "        vertical-align: top;\n",
       "    }\n",
       "\n",
       "    .dataframe thead th {\n",
       "        text-align: right;\n",
       "    }\n",
       "</style>\n",
       "<table border=\"1\" class=\"dataframe\">\n",
       "  <thead>\n",
       "    <tr style=\"text-align: right;\">\n",
       "      <th></th>\n",
       "      <th>EventName</th>\n",
       "      <th>Count</th>\n",
       "      <th>Perc</th>\n",
       "    </tr>\n",
       "  </thead>\n",
       "  <tbody>\n",
       "    <tr>\n",
       "      <th>0</th>\n",
       "      <td>Comprehesive guideline review for common bacte...</td>\n",
       "      <td>126</td>\n",
       "      <td>20.16</td>\n",
       "    </tr>\n",
       "    <tr>\n",
       "      <th>1</th>\n",
       "      <td>TU-Educational Program : Practical point in Pu...</td>\n",
       "      <td>62</td>\n",
       "      <td>9.92</td>\n",
       "    </tr>\n",
       "    <tr>\n",
       "      <th>2</th>\n",
       "      <td>IN and OUT Triggers of Allergic Rhinitis &amp; Ho...</td>\n",
       "      <td>55</td>\n",
       "      <td>8.80</td>\n",
       "    </tr>\n",
       "    <tr>\n",
       "      <th>3</th>\n",
       "      <td>Practical Point of COPD treatment... In limite...</td>\n",
       "      <td>52</td>\n",
       "      <td>8.32</td>\n",
       "    </tr>\n",
       "    <tr>\n",
       "      <th>4</th>\n",
       "      <td>Optimal Selection of AEDs in Pediatric Epileps...</td>\n",
       "      <td>44</td>\n",
       "      <td>7.04</td>\n",
       "    </tr>\n",
       "    <tr>\n",
       "      <th>5</th>\n",
       "      <td>Ultimate GOAL of Asthma Management: Take Control</td>\n",
       "      <td>44</td>\n",
       "      <td>7.04</td>\n",
       "    </tr>\n",
       "    <tr>\n",
       "      <th>6</th>\n",
       "      <td>Meet the Expert 1</td>\n",
       "      <td>38</td>\n",
       "      <td>6.08</td>\n",
       "    </tr>\n",
       "    <tr>\n",
       "      <th>7</th>\n",
       "      <td>Reveal the fact of Human Rota virus vaccine</td>\n",
       "      <td>29</td>\n",
       "      <td>4.64</td>\n",
       "    </tr>\n",
       "    <tr>\n",
       "      <th>8</th>\n",
       "      <td>Pneumococcal conjugate vaccine: From the lens ...</td>\n",
       "      <td>29</td>\n",
       "      <td>4.64</td>\n",
       "    </tr>\n",
       "    <tr>\n",
       "      <th>9</th>\n",
       "      <td>What Need to Know About Asthma-COPD Overlap</td>\n",
       "      <td>27</td>\n",
       "      <td>4.32</td>\n",
       "    </tr>\n",
       "    <tr>\n",
       "      <th>10</th>\n",
       "      <td>Myths and Facts among inhaler devices</td>\n",
       "      <td>25</td>\n",
       "      <td>4.00</td>\n",
       "    </tr>\n",
       "    <tr>\n",
       "      <th>11</th>\n",
       "      <td>The power of listening:A holistic approaches AOM</td>\n",
       "      <td>23</td>\n",
       "      <td>3.68</td>\n",
       "    </tr>\n",
       "    <tr>\n",
       "      <th>12</th>\n",
       "      <td>Myths and Facts among inhaler device</td>\n",
       "      <td>19</td>\n",
       "      <td>3.04</td>\n",
       "    </tr>\n",
       "    <tr>\n",
       "      <th>13</th>\n",
       "      <td>Maternal Immunization: From Theory to ob-gynâ€™s</td>\n",
       "      <td>17</td>\n",
       "      <td>2.72</td>\n",
       "    </tr>\n",
       "    <tr>\n",
       "      <th>14</th>\n",
       "      <td>Highlights from Chula Ob-Gyn Symposium: Double...</td>\n",
       "      <td>10</td>\n",
       "      <td>1.60</td>\n",
       "    </tr>\n",
       "    <tr>\n",
       "      <th>15</th>\n",
       "      <td>How to optimize asthma control in clinical pra...</td>\n",
       "      <td>8</td>\n",
       "      <td>1.28</td>\n",
       "    </tr>\n",
       "    <tr>\n",
       "      <th>16</th>\n",
       "      <td>Maternal Immunization as1stStepTowardsChildPro...</td>\n",
       "      <td>7</td>\n",
       "      <td>1.12</td>\n",
       "    </tr>\n",
       "    <tr>\n",
       "      <th>17</th>\n",
       "      <td>Concept&amp;Impact of Maternal Immunization with G...</td>\n",
       "      <td>4</td>\n",
       "      <td>0.64</td>\n",
       "    </tr>\n",
       "    <tr>\n",
       "      <th>18</th>\n",
       "      <td>Easy step to manage Allergic rhinitis in Comor...</td>\n",
       "      <td>4</td>\n",
       "      <td>0.64</td>\n",
       "    </tr>\n",
       "    <tr>\n",
       "      <th>19</th>\n",
       "      <td>The brief story of Asthma and COPD : Treatment...</td>\n",
       "      <td>1</td>\n",
       "      <td>0.16</td>\n",
       "    </tr>\n",
       "    <tr>\n",
       "      <th>20</th>\n",
       "      <td>COPD Webcast GSK Medic</td>\n",
       "      <td>1</td>\n",
       "      <td>0.16</td>\n",
       "    </tr>\n",
       "  </tbody>\n",
       "</table>\n",
       "</div>"
      ],
      "text/plain": [
       "                                            EventName  Count   Perc\n",
       "0   Comprehesive guideline review for common bacte...    126  20.16\n",
       "1   TU-Educational Program : Practical point in Pu...     62   9.92\n",
       "2    IN and OUT Triggers of Allergic Rhinitis & Ho...     55   8.80\n",
       "3   Practical Point of COPD treatment... In limite...     52   8.32\n",
       "4   Optimal Selection of AEDs in Pediatric Epileps...     44   7.04\n",
       "5    Ultimate GOAL of Asthma Management: Take Control     44   7.04\n",
       "6                                   Meet the Expert 1     38   6.08\n",
       "7         Reveal the fact of Human Rota virus vaccine     29   4.64\n",
       "8   Pneumococcal conjugate vaccine: From the lens ...     29   4.64\n",
       "9         What Need to Know About Asthma-COPD Overlap     27   4.32\n",
       "10              Myths and Facts among inhaler devices     25   4.00\n",
       "11   The power of listening:A holistic approaches AOM     23   3.68\n",
       "12               Myths and Facts among inhaler device     19   3.04\n",
       "13   Maternal Immunization: From Theory to ob-gynâ€™s     17   2.72\n",
       "14  Highlights from Chula Ob-Gyn Symposium: Double...     10   1.60\n",
       "15  How to optimize asthma control in clinical pra...      8   1.28\n",
       "16  Maternal Immunization as1stStepTowardsChildPro...      7   1.12\n",
       "17  Concept&Impact of Maternal Immunization with G...      4   0.64\n",
       "18  Easy step to manage Allergic rhinitis in Comor...      4   0.64\n",
       "19  The brief story of Asthma and COPD : Treatment...      1   0.16\n",
       "20                             COPD Webcast GSK Medic      1   0.16"
      ]
     },
     "execution_count": 18,
     "metadata": {},
     "output_type": "execute_result"
    }
   ],
   "source": []
  },
  {
   "cell_type": "code",
   "execution_count": 16,
   "metadata": {},
   "outputs": [
    {
     "data": {
      "text/plain": [
       "Index(['Type (Live/VOD)', 'EventName', 'Full Name', 'LoginTime', 'Duration',\n",
       "       'Primary Parent', 'E-Mail', 'Specialty', 'Date'],\n",
       "      dtype='object')"
      ]
     },
     "execution_count": 16,
     "metadata": {},
     "output_type": "execute_result"
    }
   ],
   "source": [
    "df.columns"
   ]
  },
  {
   "cell_type": "code",
   "execution_count": 366,
   "metadata": {},
   "outputs": [],
   "source": [
    "df.columns = ['Type', 'EventName', 'FullName', 'LoginTime', 'Duration', 'PrimaryParent', 'Email', 'Specialty', 'Date']"
   ]
  },
  {
   "cell_type": "code",
   "execution_count": 367,
   "metadata": {},
   "outputs": [
    {
     "name": "stdout",
     "output_type": "stream",
     "text": [
      "<class 'pandas.core.frame.DataFrame'>\n",
      "RangeIndex: 625 entries, 0 to 624\n",
      "Data columns (total 9 columns):\n",
      " #   Column         Non-Null Count  Dtype \n",
      "---  ------         --------------  ----- \n",
      " 0   Type           625 non-null    object\n",
      " 1   EventName      625 non-null    object\n",
      " 2   FullName       625 non-null    object\n",
      " 3   LoginTime      625 non-null    object\n",
      " 4   Duration       625 non-null    object\n",
      " 5   PrimaryParent  601 non-null    object\n",
      " 6   Email          625 non-null    object\n",
      " 7   Specialty      625 non-null    object\n",
      " 8   Date           625 non-null    object\n",
      "dtypes: object(9)\n",
      "memory usage: 44.1+ KB\n"
     ]
    }
   ],
   "source": [
    "df.info()"
   ]
  },
  {
   "cell_type": "code",
   "execution_count": null,
   "metadata": {},
   "outputs": [],
   "source": []
  },
  {
   "cell_type": "code",
   "execution_count": 368,
   "metadata": {},
   "outputs": [],
   "source": [
    "# Changing data type of date/datetime columns\n",
    "\n",
    "df['LoginTime'] = pd.to_datetime(df['LoginTime'])\n",
    "df['Date'] = pd.to_datetime(df['Date'])\n",
    "\n",
    "df['LoginDate'] = pd.to_datetime(df['LoginTime'].dt.strftime(\"%Y-%m-%d\"))\n",
    "# df['LoginDate'] = pd.to_datetime(df['LoginDate'])"
   ]
  },
  {
   "cell_type": "code",
   "execution_count": 369,
   "metadata": {},
   "outputs": [
    {
     "name": "stdout",
     "output_type": "stream",
     "text": [
      "<class 'pandas.core.frame.DataFrame'>\n",
      "RangeIndex: 625 entries, 0 to 624\n",
      "Data columns (total 10 columns):\n",
      " #   Column         Non-Null Count  Dtype         \n",
      "---  ------         --------------  -----         \n",
      " 0   Type           625 non-null    object        \n",
      " 1   EventName      625 non-null    object        \n",
      " 2   FullName       625 non-null    object        \n",
      " 3   LoginTime      625 non-null    datetime64[ns]\n",
      " 4   Duration       625 non-null    object        \n",
      " 5   PrimaryParent  601 non-null    object        \n",
      " 6   Email          625 non-null    object        \n",
      " 7   Specialty      625 non-null    object        \n",
      " 8   Date           625 non-null    datetime64[ns]\n",
      " 9   LoginDate      625 non-null    datetime64[ns]\n",
      "dtypes: datetime64[ns](3), object(7)\n",
      "memory usage: 49.0+ KB\n"
     ]
    }
   ],
   "source": [
    "df.info()"
   ]
  },
  {
   "cell_type": "code",
   "execution_count": 370,
   "metadata": {},
   "outputs": [
    {
     "name": "stderr",
     "output_type": "stream",
     "text": [
      "100%|████████████████████████████████████████████████████████████████████████████████████████████████████████████████████████████████████████████████████████████████████████| 625/625 [00:00<00:00, 15244.12it/s]\n"
     ]
    }
   ],
   "source": [
    "# Creating new columns from existing columns\n",
    "\n",
    "df['Week_No'] = get_week_list(df, 'Date')\n",
    "df['Day_of_Week'] = df['Date'].dt.weekday.map(DW_MAPPING)\n",
    "df['Is_Odd_Week'] = df['Week_No'] % 2\n",
    "df['Is_Weekend'] = np.where((df['Day_of_Week']=='Saturday') | (df['Day_of_Week']=='Sunday'), 1, 0)\n",
    "df['Is_First_Half_of_Month'] = np.where(df['Date'].dt.day<=15, 1, 0)\n",
    "\n",
    "df['Duration_In_Minutes'] = df['Duration'].apply(lambda x: get_minutes(x))\n",
    "df['Login_Hour'] = df['LoginTime'].dt.strftime(\"%H\").astype(int)\n",
    "\n",
    "df['Login_Session'] = np.where(df['Login_Hour'].between(0, 11), 'AM', 'PM')\n",
    "\n",
    "df['Login_Hr_Range'] = np.where(df['Login_Hour'].between(0, 7), '[00:00 - 07:59]',\n",
    "         np.where(df['Login_Hour'].between(8, 11), '[08:00 - 11:59]',\n",
    "                  np.where(df['Login_Hour'].between(12, 15), '[12:00 - 15:59]',\n",
    "                           np.where(df['Login_Hour'].between(16, 19), '[16:00 - 19:59]',\n",
    "                                    '[20:00 - 23:59]'\n",
    "                                   ))))\n",
    "\n",
    "df['Duration_Minutes_Range'] = np.where(df['Duration_In_Minutes'].between(0, 10), '[0-10 mins]',\n",
    "          np.where(df['Duration_In_Minutes'].between(11, 20), '[11-20 mins]',\n",
    "                   np.where(df['Duration_In_Minutes'].between(21, 30), '[21-30 mins]',\n",
    "                            np.where(df['Duration_In_Minutes'].between(31, 60), '[31-60 mins]',\n",
    "                                     np.where(df['Duration_In_Minutes'].between(61, 120), '[1-2 hrs]',\n",
    "                                              '[above 2 hrs]'\n",
    "                                    )))))\n",
    "\n",
    "# Getting email provider name from email address\n",
    "df['Email_Provider'] = df['Email'].str.split('@').str[1].str.replace(')', '').str.split('.').str[0]"
   ]
  },
  {
   "cell_type": "code",
   "execution_count": null,
   "metadata": {},
   "outputs": [],
   "source": []
  },
  {
   "cell_type": "code",
   "execution_count": 371,
   "metadata": {},
   "outputs": [],
   "source": [
    "# Missing data treatment\n",
    "df['PrimaryParent'].fillna('missing_data', inplace=True)\n",
    "df['Email_Provider'].fillna('improper_email', inplace=True)"
   ]
  },
  {
   "cell_type": "code",
   "execution_count": null,
   "metadata": {},
   "outputs": [],
   "source": []
  },
  {
   "cell_type": "code",
   "execution_count": 372,
   "metadata": {},
   "outputs": [],
   "source": [
    "# Getting the organization from Primary Present column\n",
    "\n",
    "df['PrimaryParent'] = df['PrimaryParent'].str.lower()\n",
    "\n",
    "df['Sector'] = np.where(df['PrimaryParent'].str.contains('hos'), 'hospital',\n",
    "         np.where(df['PrimaryParent'].str.contains('medical center'), 'hospital',\n",
    "         np.where(df['PrimaryParent'].str.contains('clinic'), 'clinic',\n",
    "         np.where(df['PrimaryParent'].str.contains('dr.'), 'doctor',\n",
    "         np.where(df['PrimaryParent'].str.contains('institute'), 'institute',\n",
    "         np.where(df['PrimaryParent'].str.contains('co.'), 'company',\n",
    "         np.where(df['PrimaryParent'].str.contains('uni'), 'university',\n",
    "         np.where(df['PrimaryParent'].str.contains('veeva'), 'not found in veeva',\n",
    "         'other'\n",
    "        ))))))))"
   ]
  },
  {
   "cell_type": "code",
   "execution_count": null,
   "metadata": {},
   "outputs": [],
   "source": []
  },
  {
   "cell_type": "code",
   "execution_count": 373,
   "metadata": {},
   "outputs": [],
   "source": [
    "df.to_csv('../data/preprocessed.csv', index=None)"
   ]
  }
 ],
 "metadata": {
  "kernelspec": {
   "display_name": "Python 3",
   "language": "python",
   "name": "python3"
  },
  "language_info": {
   "codemirror_mode": {
    "name": "ipython",
    "version": 3
   },
   "file_extension": ".py",
   "mimetype": "text/x-python",
   "name": "python",
   "nbconvert_exporter": "python",
   "pygments_lexer": "ipython3",
   "version": "3.7.9"
  }
 },
 "nbformat": 4,
 "nbformat_minor": 4
}
